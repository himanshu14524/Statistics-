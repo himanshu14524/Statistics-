{
 "cells": [
  {
   "cell_type": "markdown",
   "id": "9567fffa-40f8-4344-8d3e-764c811ee72b",
   "metadata": {},
   "source": [
    "Statistic Assignment 01 "
   ]
  },
  {
   "cell_type": "markdown",
   "id": "c8b9364f-25cc-4fa8-97fa-ecb69c8d786d",
   "metadata": {},
   "source": [
    "Q1. What are the three measures of central tendency?"
   ]
  },
  {
   "cell_type": "markdown",
   "id": "0dac585b-a111-4fb6-882f-fbd11901df08",
   "metadata": {},
   "source": [
    "ANs --Mean: The mean, often referred to as the average, is calculated by summing up all the values in a dataset and dividing by the number of values.\n",
    "\n",
    "Median: The median is the middle value in a dataset when it is arranged in ascending or descending order. If there is an even number of values, the median is the average of the two middle values.\n",
    "\n",
    "Mode: The mode is the value that appears most frequently in a dataset. Unlike the mean and median, which rely on numerical values, the mode can be applied to both numerical and categorical data."
   ]
  },
  {
   "cell_type": "markdown",
   "id": "a67e310a-c194-4b4b-a661-457f632db188",
   "metadata": {},
   "source": [
    "Q2. What is the difference between the mean, median, and mode? How are they used to measure the\n",
    "central tendency of a dataset?"
   ]
  },
  {
   "cell_type": "markdown",
   "id": "30cad8d1-78e5-4f27-89e6-3ffa09bb3af0",
   "metadata": {},
   "source": [
    "Ans - Mean:\n",
    "\n",
    "The mean is the average of all the values in a dataset.\n",
    "It is calculated by summing up all the values and dividing by the total number of values.\n",
    "The mean is sensitive to outliers because it takes into account every value in the dataset.\n",
    "It is most appropriate for datasets with a symmetric distribution and no extreme values.\n",
    "Example: In a dataset of test scores (e.g., 85, 90, 75, 80), the mean would be calculated by adding all the scores and dividing by the total number of scores.\n",
    "Median:\n",
    "\n",
    "The median is the middle value in a dataset when the values are arranged in ascending or descending order.\n",
    "If there is an even number of values, the median is the average of the two middle values.\n",
    "The median is less affected by outliers compared to the mean, making it more robust in the presence of extreme values.\n",
    "It is suitable for skewed distributions or datasets with outliers.\n",
    "Example: In the dataset of test scores (85, 90, 75, 80), the median would be 82.5, as it falls between 80 and 85.\n",
    "Mode:\n",
    "\n",
    "The mode is the value that appears most frequently in a dataset.\n",
    "A dataset can have one mode (unimodal), two modes (bimodal), or more modes (multimodal).\n",
    "The mode can be used for both numerical and categorical data.\n",
    "It is useful for identifying the most common value or category in a dataset.\n",
    "Example: In the dataset of test scores (85, 90, 75, 80), there is no mode since each score appears only once."
   ]
  },
  {
   "cell_type": "markdown",
   "id": "24ad45b0-8e17-4ea4-ac64-f30426c2a1b6",
   "metadata": {},
   "source": [
    "Q3. Measure the three measures of central tendency for the given height data:\n",
    "[178,177,176,177,178.2,178,175,179,180,175,178.9,176.2,177,172.5,178,176.5]Q3. Measure the three measures of central tendency for the given height data:"
   ]
  },
  {
   "cell_type": "markdown",
   "id": "1264457e-bfab-4163-bfcb-42ae4081f5b2",
   "metadata": {},
   "source": [
    "Ans -Mean:\n",
    "To calculate the mean, we sum up all the heights and divide by the total number of heights.\n",
    "Mean = (178 + 177 + 176 + 177 + 178.2 + 178 + 175 + 179 + 180 + 175 + 178.9 + 176.2 + 177 + 172.5 + 178 + 176.5) / 16\n",
    "≈ 177.8875\n",
    "\n",
    "Median:\n",
    "To find the median, we first arrange the heights in ascending order:\n",
    "172.5, 175, 175, 176, 176.2, 176.5, 177, 177, 177, 178, 178, 178, 178.2, 178.9, 179, 180\n",
    "Since there are 16 values, the median is the average of the 8th and 9th values:\n",
    "Median = (177 + 177) / 2\n",
    "= 177\n",
    "\n",
    "Mode:\n",
    "To find the mode, we determine which height appears most frequently:\n",
    "\n",
    "The height 178 appears 4 times.\n",
    "Therefore, the mode is 178."
   ]
  },
  {
   "cell_type": "markdown",
   "id": "774049c8-520b-4062-842e-5cb719fa4ddd",
   "metadata": {},
   "source": [
    "Q4. Find the standard deviation for the given data:\n",
    "[178,177,176,177,178.2,178,175,179,180,175,178.9,176.2,177,172.5,178,176.5]"
   ]
  },
  {
   "cell_type": "markdown",
   "id": "d22ada93-9e9b-448c-96af-c738e0e27860",
   "metadata": {},
   "source": [
    "Ans -Step 1: Calculate the mean.\n",
    "Mean = (178 + 177 + 176 + 177 + 178.2 + 178 + 175 + 179 + 180 + 175 + 178.9 + 176.2 + 177 + 172.5 + 178 + 176.5) / 16\n",
    "≈ 177.8875\n",
    "\n",
    "Step 2: Find the squared difference between each data point and the mean.\n",
    "Squared differences:\n",
    "(178 - 177.8875)^2, (177 - 177.8875)^2, (176 - 177.8875)^2, ..., (176.5 - 177.8875)^2\n",
    "\n",
    "Step 3: Calculate the mean of the squared differences.\n",
    "\n",
    "Step 4: Take the square root of the result obtained in step 3 to get the standard deviation.\n"
   ]
  },
  {
   "cell_type": "markdown",
   "id": "7e7a07e2-eeb3-46c2-8a4b-5c67d12f652d",
   "metadata": {},
   "source": [
    "Q5. How are measures of dispersion such as range, variance, and standard deviation used to describe\n",
    "the spread of a dataset? Provide an example."
   ]
  },
  {
   "cell_type": "markdown",
   "id": "4daf5486-b73c-4611-a7f6-f17831f58712",
   "metadata": {},
   "source": [
    "Ans -Range:\n",
    "\n",
    "The range is the simplest measure of dispersion and is calculated as the difference between the maximum and minimum values in the dataset.\n",
    "It gives an idea of how widely spread out the values in the dataset are.\n",
    "However, it is highly affected by outliers and may not provide a robust measure of variability.\n",
    "Example: Consider two datasets of test scores:\n",
    "Dataset 1: {60, 70, 80, 90, 100} ⇒ Range = 100 - 60 = 40\n",
    "Dataset 2: {60, 65, 70, 75, 200} ⇒ Range = 200 - 60 = 140\n",
    "In Dataset 2, the range is significantly larger due to the outlier (200).\n",
    "Variance:\n",
    "\n",
    "Variance measures the average squared deviation of each data point from the mean.\n",
    "It provides a more robust measure of dispersion compared to the range because it considers every data point in the calculation.\n",
    "However, it is not directly interpretable in the original units of the data, as it is expressed in squared units.\n",
    "Example: Consider a dataset of exam scores: {70, 75, 80, 85, 90}. The mean score is 80. The variance would be calculated by taking the squared differences between each score and the mean, then averaging them.\n",
    "Standard Deviation:\n",
    "\n",
    "The standard deviation is the square root of the variance.\n",
    "It represents the average deviation of each data point from the mean.\n",
    "It is more interpretable than the variance as it is in the same units as the original data.\n",
    "It is widely used due to its intuitive interpretation and its property of being in the same units as the data.\n",
    "Example: Continuing with the exam scores dataset, if the variance is found to be 25, then the standard deviation would be √25 = 5."
   ]
  },
  {
   "cell_type": "markdown",
   "id": "4f9af30a-e55e-4fce-9821-42820f28a9cf",
   "metadata": {},
   "source": [
    "Q6. What is a Venn diagram?"
   ]
  },
  {
   "cell_type": "markdown",
   "id": "70341ac9-6915-4b6e-9510-f0bb95add4c0",
   "metadata": {},
   "source": [
    "Ans - A Venn diagram is a graphical representation of the relationships between different sets or groups, typically depicted by overlapping circles or other shapes to show the common and distinct elements among them."
   ]
  },
  {
   "cell_type": "markdown",
   "id": "15591b06-fbb7-4b2e-a9f0-530b0d144013",
   "metadata": {},
   "source": [
    "Q7. For the two given sets A = (2,3,4,5,6,7) & B = (0,2,6,8,10). Find:\n",
    "(i) A B\n",
    "(ii) A ⋃ B"
   ]
  },
  {
   "cell_type": "markdown",
   "id": "b631fe68-0ee8-4604-a59f-5498c0f2eb41",
   "metadata": {},
   "source": [
    "Ans -A∩B={2,6}.\n",
    "A∪B={0,2,3,4,5,6,7,8,10}.\n"
   ]
  },
  {
   "cell_type": "markdown",
   "id": "0b5d1620-6901-4409-b27d-4ea49130e192",
   "metadata": {},
   "source": [
    "Q8. What do you understand about skewness in data?"
   ]
  },
  {
   "cell_type": "markdown",
   "id": "1c9ace99-1545-4bdf-9188-bc2c4925b684",
   "metadata": {},
   "source": [
    "Ans -Skewness in data refers to the measure of asymmetry or lack of symmetry in the distribution of data. It indicates whether the data distribution is balanced or whether it leans towards one side, either the left (negative skew) or the right (positive skew)."
   ]
  },
  {
   "cell_type": "markdown",
   "id": "e442ade8-78d8-4b93-b06c-1be62f7e0739",
   "metadata": {},
   "source": [
    "Q9. If a data is right skewed then what will be the position of median with respect to mean?"
   ]
  },
  {
   "cell_type": "markdown",
   "id": "24f46132-8d8e-4d92-b45f-27323a7d5296",
   "metadata": {},
   "source": [
    "The mean will be greater than the median.\n",
    "This is because the skewness towards the right (or positive skew) indicates that the tail of the distribution is longer on the right side, pulling the mean towards higher values.\n",
    "Meanwhile, the median, which represents the middle value when the data is arranged in ascending order, is less influenced by extreme values in the right tail and remains relatively closer to the center of the dataset.\n",
    "\n",
    "\n",
    "\n",
    "\n"
   ]
  },
  {
   "cell_type": "markdown",
   "id": "1ff160c6-5319-4b65-8e64-0fdad52f80d6",
   "metadata": {},
   "source": [
    "Q10. Explain the difference between covariance and correlation. How are these measures used in\n",
    "statistical analysis?"
   ]
  },
  {
   "cell_type": "markdown",
   "id": "a3a5d0ee-cbd1-472e-8fb7-e958472c40dd",
   "metadata": {},
   "source": []
  },
  {
   "cell_type": "markdown",
   "id": "efb719a8-20c6-4080-869d-302bd754f56f",
   "metadata": {},
   "source": []
  },
  {
   "cell_type": "code",
   "execution_count": null,
   "id": "f68b1269-c098-435b-957d-5b5adb7b7ba5",
   "metadata": {},
   "outputs": [],
   "source": []
  },
  {
   "cell_type": "code",
   "execution_count": null,
   "id": "7b344dd5-4fc4-4f5b-9755-c4dfcc796f33",
   "metadata": {},
   "outputs": [],
   "source": []
  }
 ],
 "metadata": {
  "kernelspec": {
   "display_name": "Python 3 (ipykernel)",
   "language": "python",
   "name": "python3"
  },
  "language_info": {
   "codemirror_mode": {
    "name": "ipython",
    "version": 3
   },
   "file_extension": ".py",
   "mimetype": "text/x-python",
   "name": "python",
   "nbconvert_exporter": "python",
   "pygments_lexer": "ipython3",
   "version": "3.10.8"
  }
 },
 "nbformat": 4,
 "nbformat_minor": 5
}
